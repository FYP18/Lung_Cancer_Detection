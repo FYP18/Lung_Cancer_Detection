{
  "cells": [
    {
      "cell_type": "markdown",
      "metadata": {
        "id": "Dlk78cTzAuIm"
      },
      "source": [
        "#Using transfer learning to detect lung cancer\n",
        "Model : ResNet50  \n",
        "Dataset : LC25000  \n",
        "Classes : 3[aca, n, scc]  \n",
        "Total images : 15000  \n",
        "Training images : 12000  \n",
        "Validation images : 2400  \n",
        "Testing images : 600  \n"
      ]
    },
    {
      "cell_type": "code",
      "execution_count": 1,
      "metadata": {
        "colab": {
          "base_uri": "https://localhost:8080/",
          "height": 336,
          "resources": {
            "http://localhost:8080/nbextensions/google.colab/files.js": {
              "data": "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",
              "headers": [
                [
                  "content-type",
                  "application/javascript"
                ]
              ],
              "ok": true,
              "status": 200,
              "status_text": ""
            }
          }
        },
        "id": "FdhdTqD8Anl2",
        "outputId": "a3b60d3f-42ec-4620-c9a2-5ea1e025d11e"
      },
      "outputs": [
        {
          "output_type": "display_data",
          "data": {
            "text/html": [
              "\n",
              "     <input type=\"file\" id=\"files-345337a1-dfd8-4798-8a85-9a84eb5c1bbc\" name=\"files[]\" multiple disabled\n",
              "        style=\"border:none\" />\n",
              "     <output id=\"result-345337a1-dfd8-4798-8a85-9a84eb5c1bbc\">\n",
              "      Upload widget is only available when the cell has been executed in the\n",
              "      current browser session. Please rerun this cell to enable.\n",
              "      </output>\n",
              "      <script src=\"/nbextensions/google.colab/files.js\"></script> "
            ],
            "text/plain": [
              "<IPython.core.display.HTML object>"
            ]
          },
          "metadata": {}
        },
        {
          "output_type": "stream",
          "name": "stdout",
          "text": [
            "Saving kaggle.json to kaggle.json\n",
            "Collecting kaggle\n",
            "  Downloading kaggle-1.5.12.tar.gz (58 kB)\n",
            "\u001b[K     |████████████████████████████████| 58 kB 7.1 MB/s \n",
            "\u001b[?25hBuilding wheels for collected packages: kaggle\n",
            "  Building wheel for kaggle (setup.py) ... \u001b[?25l\u001b[?25hdone\n",
            "  Created wheel for kaggle: filename=kaggle-1.5.12-py3-none-any.whl size=73051 sha256=dcdd8b05a4273048047ceb2cf08a72da40fe6ec88bf0edd06a7b6a349e8aca38\n",
            "  Stored in directory: /root/.cache/pip/wheels/62/d6/58/5853130f941e75b2177d281eb7e44b4a98ed46dd155f556dc5\n",
            "Successfully built kaggle\n",
            "Installing collected packages: kaggle\n",
            "  Attempting uninstall: kaggle\n",
            "    Found existing installation: kaggle 1.5.12\n",
            "    Uninstalling kaggle-1.5.12:\n",
            "      Successfully uninstalled kaggle-1.5.12\n",
            "Successfully installed kaggle-1.5.12\n"
          ]
        }
      ],
      "source": [
        "# context of conneting kaggle with colab\n",
        "\n",
        "!pip install -q kaggle\n",
        "from google.colab import files\n",
        "files.upload()\n",
        "!mkdir ~/.kaggle\n",
        "!cp kaggle.json ~/.kaggle/\n",
        "!chmod 600 ~/.kaggle/kaggle.json\n",
        "\n",
        "# To upgrade if downloading dataset gives forbidden error\n",
        "!pip install --upgrade --force-reinstall --no-deps kaggle"
      ]
    },
    {
      "cell_type": "code",
      "execution_count": 2,
      "metadata": {
        "colab": {
          "base_uri": "https://localhost:8080/"
        },
        "id": "s1h4ofYzCdgh",
        "outputId": "51445be9-8612-4d94-b2ce-4e81aa874dd5"
      },
      "outputs": [
        {
          "metadata": {
            "tags": null
          },
          "name": "stdout",
          "output_type": "stream",
          "text": [
            "Downloading lung-and-colon-cancer-histopathological-images.zip to /content\n",
            " 98% 1.73G/1.76G [00:13<00:00, 131MB/s]\n",
            "100% 1.76G/1.76G [00:13<00:00, 137MB/s]\n"
          ]
        }
      ],
      "source": [
        "# Downloading dataset into colab from kaggle\n",
        "!kaggle datasets download -d andrewmvd/lung-and-colon-cancer-histopathological-images"
      ]
    },
    {
      "cell_type": "code",
      "source": [
        "!unzip '/content/lung-and-colon-cancer-histopathological-images.zip'"
      ],
      "metadata": {
        "id": "IkQP3Ym6_WI-"
      },
      "execution_count": null,
      "outputs": []
    },
    {
      "cell_type": "code",
      "source": [
        "import numpy as np\n",
        "from random import randint\n",
        "import random\n",
        "from sklearn.utils import shuffle\n",
        "from sklearn.preprocessing import MinMaxScaler\n",
        "\n",
        "import tensorflow as tf\n",
        "from tensorflow import keras\n",
        "from tensorflow.keras.models import Sequential\n",
        "from tensorflow.keras.layers import Activation, Dense\n",
        "from tensorflow.keras.optimizers import Adam\n",
        "from tensorflow.keras.metrics import categorical_crossentropy\n",
        "from tensorflow.keras.preprocessing.image import ImageDataGenerator\n",
        "import os\n",
        "import shutil\n",
        "import glob\n",
        "%matplotlib inline\n",
        "from sklearn.metrics import confusion_matrix\n",
        "import itertools\n",
        "import matplotlib.pyplot as plt"
      ],
      "metadata": {
        "id": "n7Ce9ePABDDe"
      },
      "execution_count": 18,
      "outputs": []
    },
    {
      "cell_type": "code",
      "execution_count": 6,
      "metadata": {
        "id": "Q7bJyx6zDdyE"
      },
      "outputs": [],
      "source": [
        "#Deleting unnecessary folders and managing folders\n",
        "os.makedirs('lung_cancer')\n",
        "shutil.rmtree('sample_data')\n",
        "os.remove('lung-and-colon-cancer-histopathological-images.zip')\n",
        "shutil.rmtree('/content/lung_colon_image_set/colon_image_sets')\n",
        "shutil.move('/content/lung_colon_image_set/lung_image_sets','/content')\n",
        "shutil.rmtree('/content/lung_colon_image_set')"
      ]
    },
    {
      "cell_type": "code",
      "execution_count": 7,
      "metadata": {
        "id": "eZWulMylEefc"
      },
      "outputs": [],
      "source": [
        "#creating training, validation and testing folders\n",
        "os.chdir('/content/lung_cancer')\n",
        "if os.path.isfile('/content/lung_cancer/train') is False:\n",
        "  os.makedirs('train/aca')\n",
        "  os.makedirs('train/n')\n",
        "  os.makedirs('train/scc')\n",
        "  os.makedirs('valid/aca')\n",
        "  os.makedirs('valid/n')\n",
        "  os.makedirs('valid/scc')\n",
        "  os.makedirs('test/aca')\n",
        "  os.makedirs('test/n')\n",
        "  os.makedirs('test/scc')"
      ]
    },
    {
      "cell_type": "code",
      "execution_count": 8,
      "metadata": {
        "id": "CSQ_Q0IbF9_O"
      },
      "outputs": [],
      "source": [
        "#storing the common address for the folders to move images to train/valid/test folders\n",
        "des = '/content/lung_cancer/'\n",
        "root = '/content/lung_image_sets/'"
      ]
    },
    {
      "cell_type": "code",
      "execution_count": 13,
      "metadata": {
        "id": "Q4k-gG43GOq6"
      },
      "outputs": [],
      "source": [
        "# Moving images to train/valid/test folders of lung cancer\n",
        "\n",
        "folders = ['lung_aca','lung_n','lung_scc']\n",
        "\n",
        "os.chdir(root+folders[0])\n",
        "for i in random.sample(glob.glob('lungaca*'),4000):\n",
        "   shutil.move(i,des+'train/aca')\n",
        "\n",
        "os.chdir(root+folders[1])\n",
        "for i in random.sample(glob.glob('lungn*'),4000):\n",
        "   shutil.move(i,des+'train/n')\n",
        "\n",
        "os.chdir(root+folders[2])\n",
        "for i in random.sample(glob.glob('lungscc*'),4000):\n",
        "   shutil.move(i,des+'train/scc')\n",
        "\n",
        "os.chdir(root+folders[0])\n",
        "for i in random.sample(glob.glob('lungaca*'),800):\n",
        "   shutil.move(i,des+'valid/aca')\n",
        "\n",
        "os.chdir(root+folders[1])\n",
        "for i in random.sample(glob.glob('lungn*'),800):\n",
        "   shutil.move(i,des+'valid/n')\n",
        "\n",
        "os.chdir(root+folders[2])\n",
        "for i in random.sample(glob.glob('lungscc*'),800):\n",
        "   shutil.move(i,des+'valid/scc')\n",
        "\n",
        "os.chdir(root+folders[0])\n",
        "for i in random.sample(glob.glob('lungaca*'),200):\n",
        "   shutil.move(i,des+'test/aca')\n",
        "\n",
        "os.chdir(root+folders[1])\n",
        "for i in random.sample(glob.glob('lungn*'),200):\n",
        "   shutil.move(i,des+'test/n')\n",
        "\n",
        "os.chdir(root+folders[2])\n",
        "for i in random.sample(glob.glob('lungscc*'),200):\n",
        "   shutil.move(i,des+'test/scc')"
      ]
    },
    {
      "cell_type": "code",
      "execution_count": 14,
      "metadata": {
        "id": "QC9xL7H6Guvy"
      },
      "outputs": [],
      "source": [
        "# Removing the empty directory\n",
        "shutil.rmtree('/content/lung_image_sets')"
      ]
    },
    {
      "cell_type": "code",
      "execution_count": 15,
      "metadata": {
        "id": "SAf7rTdKG-0m"
      },
      "outputs": [],
      "source": [
        "# storing path for respective folders\n",
        "train_path = '/content/lung_cancer/train'\n",
        "valid_path = '/content/lung_cancer/valid'\n",
        "test_path = '/content/lung_cancer/test'"
      ]
    },
    {
      "cell_type": "code",
      "execution_count": 19,
      "metadata": {
        "colab": {
          "base_uri": "https://localhost:8080/"
        },
        "id": "7rgdEuA7HL7_",
        "outputId": "b19f3d43-ed1d-4bce-bcf0-d520230f4e46"
      },
      "outputs": [
        {
          "output_type": "stream",
          "name": "stdout",
          "text": [
            "Found 12000 images belonging to 3 classes.\n",
            "Found 2400 images belonging to 3 classes.\n",
            "Found 600 images belonging to 3 classes.\n"
          ]
        }
      ],
      "source": [
        "#Preprocessing the data to be appropriate for the model processing\n",
        "train_batches = ImageDataGenerator(preprocessing_function=tf.keras.applications.resnet50.preprocess_input)\\\n",
        "                .flow_from_directory(directory=train_path, target_size=(224,224), classes=['aca','n','scc'],batch_size=128)\n",
        "\n",
        "valid_batches = ImageDataGenerator(preprocessing_function=tf.keras.applications.resnet50.preprocess_input)\\\n",
        "                .flow_from_directory(directory=valid_path, target_size=(224,224), classes=['aca','n','scc'],batch_size=128)\n",
        "\n",
        "test_batches = ImageDataGenerator(preprocessing_function=tf.keras.applications.resnet50.preprocess_input)\\\n",
        "                .flow_from_directory(directory=test_path, target_size=(224,224), classes=['aca','n','scc'],batch_size=128,shuffle=False)"
      ]
    },
    {
      "cell_type": "code",
      "execution_count": 20,
      "metadata": {
        "id": "eZmO9KCxHeXu"
      },
      "outputs": [],
      "source": [
        "#function to plot images\n",
        "def plotImages(images_arr):\n",
        "  fig, axes = plt.subplots(1,10,figsize=(20,20))\n",
        "  axes = axes.flatten()\n",
        "  for img, ax in zip(images_arr, axes):\n",
        "    ax.imshow(img)\n",
        "    ax.axis('off')\n",
        "  plt.tight_layout()\n",
        "  plt.show()"
      ]
    },
    {
      "cell_type": "code",
      "execution_count": null,
      "metadata": {
        "id": "stE-xOyOH0Jp"
      },
      "outputs": [],
      "source": [
        "#plotting the images and checking their corresponding labels\n",
        "imgs, labels = next(train_batches)\n",
        "plotImages(imgs)\n",
        "print(labels)"
      ]
    },
    {
      "cell_type": "code",
      "execution_count": 22,
      "metadata": {
        "colab": {
          "base_uri": "https://localhost:8080/"
        },
        "id": "imgvZZTGU1G7",
        "outputId": "301cd7a2-fdb1-43f5-ef31-84ae65758b8e"
      },
      "outputs": [
        {
          "output_type": "stream",
          "name": "stdout",
          "text": [
            "Downloading data from https://storage.googleapis.com/tensorflow/keras-applications/resnet/resnet50_weights_tf_dim_ordering_tf_kernels_notop.h5\n",
            "94773248/94765736 [==============================] - 0s 0us/step\n",
            "94781440/94765736 [==============================] - 0s 0us/step\n"
          ]
        }
      ],
      "source": [
        "# Downloading the resnet50 model\n",
        "input_t = keras.Input(shape=(224,224,3))\n",
        "res_model = tf.keras.applications.ResNet50(include_top=False,\n",
        "                                           weights='imagenet',\n",
        "                                           input_tensor = input_t)"
      ]
    },
    {
      "cell_type": "code",
      "execution_count": 23,
      "metadata": {
        "id": "OakmrViEVXh6"
      },
      "outputs": [],
      "source": [
        ""
      ]
    },
    {
      "cell_type": "code",
      "execution_count": 24,
      "metadata": {
        "id": "1FCv-oTYWpwI"
      },
      "outputs": [],
      "source": [
        "#freezing hidden layers from re_train\n",
        "for i in res_model.layers:\n",
        "  i.trainable = False\n",
        "\n",
        "# Fine tuning the downloaded resnet50 model by adding flatten and dense layer\n",
        "r50_model = keras.models.Sequential()\n",
        "r50_model.add(res_model)\n",
        "r50_model.add(keras.layers.Flatten())\n",
        "r50_model.add(keras.layers.Dense(3,activation='softmax'))"
      ]
    },
    {
      "cell_type": "code",
      "source": [
        "# loading model DO NOT RUN\n",
        "r50_model = load_model('/content/resnet50_model.h5')"
      ],
      "metadata": {
        "id": "MGZhaJnQwqUB"
      },
      "execution_count": null,
      "outputs": []
    },
    {
      "cell_type": "code",
      "execution_count": null,
      "metadata": {
        "id": "LCXMSmvjYo6x"
      },
      "outputs": [],
      "source": [
        "# Download model summary real resnet50 without modification\n",
        "res_model.summary()"
      ]
    },
    {
      "cell_type": "code",
      "execution_count": null,
      "metadata": {
        "id": "jc2XKg6iXJqf"
      },
      "outputs": [],
      "source": [
        "# Fine tuned resnet50 model summary\n",
        "r50_model.summary()"
      ]
    },
    {
      "cell_type": "code",
      "execution_count": 33,
      "metadata": {
        "id": "sj9wkjcQX_BC"
      },
      "outputs": [],
      "source": [
        "#setting hyper-parameters and compiling the model for training\n",
        "r50_model.compile(optimizer=Adam(learning_rate=0.0001),loss='categorical_crossentropy',metrics='accuracy')"
      ]
    },
    {
      "cell_type": "code",
      "execution_count": 34,
      "metadata": {
        "colab": {
          "base_uri": "https://localhost:8080/"
        },
        "id": "up8Wuig_YOZd",
        "outputId": "9bc32fc0-c96e-4909-8438-f176a5963c6d"
      },
      "outputs": [
        {
          "output_type": "stream",
          "name": "stdout",
          "text": [
            "Epoch 1/5\n",
            "94/94 - 141s - loss: 0.2403 - accuracy: 0.9120 - val_loss: 0.0895 - val_accuracy: 0.9633 - 141s/epoch - 2s/step\n",
            "Epoch 2/5\n",
            "94/94 - 129s - loss: 0.0411 - accuracy: 0.9853 - val_loss: 0.0544 - val_accuracy: 0.9808 - 129s/epoch - 1s/step\n",
            "Epoch 3/5\n",
            "94/94 - 130s - loss: 0.0173 - accuracy: 0.9978 - val_loss: 0.0474 - val_accuracy: 0.9846 - 130s/epoch - 1s/step\n",
            "Epoch 4/5\n",
            "94/94 - 129s - loss: 0.0099 - accuracy: 0.9995 - val_loss: 0.0422 - val_accuracy: 0.9842 - 129s/epoch - 1s/step\n",
            "Epoch 5/5\n",
            "94/94 - 130s - loss: 0.0066 - accuracy: 0.9998 - val_loss: 0.0392 - val_accuracy: 0.9862 - 130s/epoch - 1s/step\n"
          ]
        },
        {
          "output_type": "execute_result",
          "data": {
            "text/plain": [
              "<keras.callbacks.History at 0x7ff7806f1a10>"
            ]
          },
          "metadata": {},
          "execution_count": 34
        }
      ],
      "source": [
        "r50_model.fit(x=train_batches,validation_data=valid_batches, epochs=5,verbose=2)"
      ]
    },
    {
      "cell_type": "code",
      "execution_count": null,
      "metadata": {
        "id": "xID-igsbd229"
      },
      "outputs": [],
      "source": [
        "#saving the trained model \n",
        "r50_model.save('resnet50_model.h5')"
      ]
    },
    {
      "cell_type": "code",
      "execution_count": 35,
      "metadata": {
        "id": "8lmXPwnhc8xh"
      },
      "outputs": [],
      "source": [
        "#predicting the labels based on the training of the model\n",
        "prediction = r50_model.predict(x=test_batches, verbose = 0)"
      ]
    },
    {
      "cell_type": "code",
      "execution_count": null,
      "metadata": {
        "id": "wBIucARMJuvJ"
      },
      "outputs": [],
      "source": [
        "#checking test_batch classes\n",
        "test_batches.classes"
      ]
    },
    {
      "cell_type": "code",
      "execution_count": 39,
      "metadata": {
        "id": "k-MlfDE5JxP0"
      },
      "outputs": [],
      "source": [
        "# function to plot confusion matrix\n",
        "def plot_confusion_matrix(cm, classes,\n",
        "                          normalize=False,\n",
        "                          title='Confusion matrix',\n",
        "                          cmap=plt.cm.Blues):\n",
        "  plt.imshow(cm, interpolation='nearest',cmap=cmap)\n",
        "  plt.title(title)\n",
        "  plt.colorbar()\n",
        "  tick_marks = np.arange(len(classes))\n",
        "  plt.xticks(tick_marks, classes, rotation=45)\n",
        "  plt.yticks(tick_marks, classes)\n",
        "\n",
        "  if normalize:\n",
        "    cm = cm.astype('float')/cm.sum(axis=1)[:,np.newaxis]\n",
        "    print('Normalized confusion matrix')\n",
        "  else:\n",
        "    print('Confusion matrix, without normalization')\n",
        "  print(cm)\n",
        "\n",
        "  thresh = cm.max()/2\n",
        "  for i, j in itertools.product(range(cm.shape[0]),range(cm.shape[1])):\n",
        "    plt.text(j,i,cm[i,j],\n",
        "             horizontalalignment='center',\n",
        "             color='white' if cm[i,j] > thresh else 'black')\n",
        "  plt.tight_layout()\n",
        "  plt.ylabel('True label')\n",
        "  plt.xlabel('Predicted label')"
      ]
    },
    {
      "cell_type": "code",
      "execution_count": 40,
      "metadata": {
        "id": "sXaxm5yJKA9y"
      },
      "outputs": [],
      "source": [
        "#initializing confusion matrix with test batch classes and predicted outputs\n",
        "cm = confusion_matrix(y_true=test_batches.classes, y_pred=np.argmax(prediction,axis=-1))\n",
        "cm_plot_labels = ['aca','n','scc']"
      ]
    },
    {
      "cell_type": "code",
      "execution_count": 58,
      "metadata": {
        "colab": {
          "base_uri": "https://localhost:8080/",
          "height": 380
        },
        "id": "QlVO8qOcKNhs",
        "outputId": "bbd8f367-8b78-4429-c9f3-2b2060bd9748"
      },
      "outputs": [
        {
          "output_type": "stream",
          "name": "stdout",
          "text": [
            "Confusion matrix, without normalization\n",
            "[[196   0   4]\n",
            " [  0 200   0]\n",
            " [  3   0 197]]\n"
          ]
        },
        {
          "output_type": "display_data",
          "data": {
            "image/png": "[encoded data removed]",
            "text/plain": [
              "<Figure size 432x288 with 2 Axes>"
            ]
          },
          "metadata": {
            "needs_background": "light"
          }
        }
      ],
      "source": [
        "#Plotting confusion matrix\n",
        "plot_confusion_matrix(cm=cm, classes=cm_plot_labels)"
      ]
    },
    {
      "cell_type": "code",
      "source": [
        "#Preprocessing the data to be appropriate for the model processing\n",
        "train_batches = ImageDataGenerator(preprocessing_function=tf.keras.applications.vgg16.preprocess_input)\\\n",
        "                .flow_from_directory(directory=train_path, target_size=(224,224), classes=['aca','n','scc'],batch_size=128)\n",
        "\n",
        "valid_batches = ImageDataGenerator(preprocessing_function=tf.keras.applications.vgg16.preprocess_input)\\\n",
        "                .flow_from_directory(directory=valid_path, target_size=(224,224), classes=['aca','n','scc'],batch_size=128)\n",
        "\n",
        "test_batches = ImageDataGenerator(preprocessing_function=tf.keras.applications.vgg16.preprocess_input)\\\n",
        "                .flow_from_directory(directory=test_path, target_size=(224,224), classes=['aca','n','scc'],batch_size=128,shuffle=False)\n",
        "\n",
        "#Downloading the model\n",
        "vgg16_model = tf.keras.applications.vgg16.VGG16()\n",
        "\n",
        "#Removing last layer from the VGG16 (known as fine tuning)\n",
        "model = Sequential()\n",
        "for layer in vgg16_model.layers[:-1]:\n",
        "  model.add(layer)\n",
        "\n",
        "#Freezing the hidden layers from trianing\n",
        "for layer in model.layers:\n",
        "  layer.trainable = False\n",
        "\n",
        "# Adding last layers which will give three possible answers corresponding to three classes of the cancer\n",
        "model.add(Dense(units=3, activation='softmax'))\n",
        "\n",
        "#setting hyperparameters and compiling the model\n",
        "model.compile(optimizer=Adam(learning_rate=0.0001),loss='categorical_crossentropy',metrics='accuracy')\n",
        "\n",
        "#Training the model by providing training and validation set\n",
        "model.fit(x=train_batches,validation_data=valid_batches, epochs=5,verbose=2)\n",
        "\n",
        "# Prediction using the trained model and giving the test batches\n",
        "prediction = model.predict(x=test_batches, verbose=0)\n",
        "\n",
        "#initializing confusion matrix with test batch classes and predicted outputs\n",
        "cm = confusion_matrix(y_true=test_batches.classes, y_pred=np.argmax(prediction,axis=-1))\n",
        "cm_plot_labels = ['aca','n','scc']\n",
        "\n",
        "#Plotting confusion matrix\n",
        "plot_confusion_matrix(cm=cm, classes=cm_plot_labels)"
      ],
      "metadata": {
        "id": "5nnYnvjBIx7A"
      },
      "execution_count": null,
      "outputs": []
    }
  ],
  "metadata": {
    "accelerator": "GPU",
    "colab": {
      "collapsed_sections": [],
      "name": "Transfer_learning_to_detect_lung_cancer.ipynb",
      "provenance": []
    },
    "kernelspec": {
      "display_name": "Python 3",
      "name": "python3"
    },
    "language_info": {
      "name": "python"
    }
  },
  "nbformat": 4,
  "nbformat_minor": 0
}